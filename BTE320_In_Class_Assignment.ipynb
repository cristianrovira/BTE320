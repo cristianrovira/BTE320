{
  "nbformat": 4,
  "nbformat_minor": 0,
  "metadata": {
    "colab": {
      "provenance": [],
      "authorship_tag": "ABX9TyPrNB0bMO2119euJLznOojW",
      "include_colab_link": true
    },
    "kernelspec": {
      "name": "python3",
      "display_name": "Python 3"
    },
    "language_info": {
      "name": "python"
    }
  },
  "cells": [
    {
      "cell_type": "markdown",
      "metadata": {
        "id": "view-in-github",
        "colab_type": "text"
      },
      "source": [
        "<a href=\"https://colab.research.google.com/github/cristianrovira/BTE320/blob/main/BTE320_In_Class_Assignment.ipynb\" target=\"_parent\"><img src=\"https://colab.research.google.com/assets/colab-badge.svg\" alt=\"Open In Colab\"/></a>"
      ]
    },
    {
      "cell_type": "code",
      "source": [
        "'''\n",
        "\n",
        "BTE320 in-class activities:\n",
        "\n",
        "  1. Shape area calculator\n",
        "  2. Rock-paper-scissors (with the while loop)\n",
        "  3. Numerical calculator\n",
        "  4. Parking garage\n",
        "  5. Movie theater\n",
        "  6. Months2Numbers dictionary\n",
        "  7. Fee calculation and display functions\n",
        "  8. Reverse function (recursion)\n",
        "  9. Student class\n"
      ],
      "metadata": {
        "id": "CT-d96J0_8FI"
      },
      "execution_count": null,
      "outputs": []
    },
    {
      "cell_type": "code",
      "execution_count": null,
      "metadata": {
        "colab": {
          "base_uri": "https://localhost:8080/"
        },
        "id": "tsCc6rO-CnIy",
        "outputId": "96209749-7418-4844-f868-61061bb4a735"
      },
      "outputs": [
        {
          "output_type": "stream",
          "name": "stdout",
          "text": [
            "244.92000000000002\n"
          ]
        }
      ],
      "source": [
        "# ACTIVITY 1: Shape Area Calculator\n",
        "#   Surface area of a cylinder => 2PiR^2 + 2PiRH\n",
        "\n",
        "Pi = 3.14\n",
        "r = 3\n",
        "h = 10\n",
        "\n",
        "SA = 2 * Pi * r ** 2 + 2 * Pi * r * h\n",
        "print(SA)"
      ]
    },
    {
      "cell_type": "code",
      "source": [
        "# ACTIVITY 2: Game of rock, paper, or scissors\n",
        "\n",
        "import random\n",
        "game_choice = str(input(\"Would you like to play a game? Answer 'yes' or 'no'. \")).lower()\n",
        "while game_choice == \"yes\":\n",
        "  player_1 = input(\"Player 1: choose rock, paper, or scissors. \").lower()\n",
        "  player_2 = random.choice(['rock', 'paper', 'scissors'])\n",
        "  print(f\"Computer chose {player_2}.\")\n",
        "\n",
        "  if player_1 == player_2:\n",
        "    print(\"Its a tie.\")\n",
        "\n",
        "  elif ((player_1 == \"rock\" and player_2 == \"scissors\")\n",
        "  or (player_1 == \"paper\" and player_2 == \"rock\")\n",
        "  or (player_1 == \"scissors\" and player_2 == \"paper\")):\n",
        "    print(\"You win!\")\n",
        "    print()\n",
        "\n",
        "  elif ((player_1 == \"scissors\" and player_2 == \"rock\")\n",
        "  or (player_1 == \"rock\" and player_2 == \"paper\")\n",
        "  or (player_1 == \"paper\" and player_2 == \"scissors\")):\n",
        "    print(\"You lose!\")\n",
        "    print()\n",
        "\n",
        "  else:\n",
        "    print(\"Invalid input. Please enter a valid choice.\")\n",
        "    print()\n",
        "\n",
        "  game_choice = input(\"Would you like to play again? Answer 'yes' or 'no'. \")\n"
      ],
      "metadata": {
        "id": "2vmkfTqgSMEh"
      },
      "execution_count": null,
      "outputs": []
    },
    {
      "cell_type": "code",
      "source": [
        "# ACTIVITY 3: Simple numerical calculator\n",
        "\n",
        "number_1 = float(input(\"What is the first number? \"))\n",
        "number_2 = float(input(\"What is the second number? \"))\n",
        "math_operation = input(\"Which operation would you like to perform? (+, -, *, /, **) \")\n",
        "print()\n",
        "\n",
        "if(math_operation == \"+\"):\n",
        "  result = number_1 + number_2\n",
        "elif(math_operation == \"-\"):\n",
        "  result = number_1 - number_2\n",
        "elif(math_operation == \"*\"):\n",
        "  result = number_1 * number_2\n",
        "elif(math_operation == \"/\"):\n",
        "  result = number_1 / number_2\n",
        "elif(math_operation == \"**\"):\n",
        "  result = number_1 ** number_2\n",
        "else:\n",
        "  print(\"Invalid input. Please enter a valid operator (+, -, *, /, **).\")\n",
        "\n",
        "print(f\"The result is {result}.\")\n",
        "\n",
        "print(\"Program ended.\")\n"
      ],
      "metadata": {
        "colab": {
          "base_uri": "https://localhost:8080/"
        },
        "id": "PS98--hJXxe5",
        "outputId": "0bad85ee-70bb-4eb2-d666-dff80a2ee452"
      },
      "execution_count": null,
      "outputs": [
        {
          "output_type": "stream",
          "name": "stdout",
          "text": [
            "What is the first number? 1\n",
            "What is the second number? 1\n",
            "Which operation would you like to perform? (+, -, *, /, **) +\n",
            "\n",
            "The result is 2.0.\n",
            "Program ended.\n"
          ]
        }
      ]
    },
    {
      "cell_type": "code",
      "source": [
        "# ACTIVITY 4: Parking garage\n",
        "\n",
        "\"\"\"\n",
        "Parking garage charges\n",
        "2.50 for each hour parked. The minimum fee is\n",
        "20.\n",
        "\n",
        "Write a program that generates a table with hours parked and the corresponding fee, from 1 to 8 hours.\n",
        "\n",
        "Example output:\n",
        "1 10.0\n",
        "2 10.0\n",
        "3 12.5\n",
        "4 15.0\n",
        "5 17.5\n",
        "6 20.0\n",
        "7 20.0\n",
        "8 20.0\n",
        "\n",
        "\"\"\"\n",
        "\n",
        "flat_rate = 5\n",
        "hourly_rate = 2.50\n",
        "\n",
        "for i in range(1,9,1):\n",
        "  total = flat_rate + hourly_rate * i\n",
        "  if total < 10:\n",
        "    total = 10\n",
        "  elif total > 20:\n",
        "    total = 20\n",
        "  print(total)\n"
      ],
      "metadata": {
        "id": "TqYPZBZE6hxn"
      },
      "execution_count": null,
      "outputs": []
    },
    {
      "cell_type": "code",
      "source": [
        "# ACTIVITY 5: Movie theater\n",
        "\n",
        "\"\"\"\n",
        "A movie theater manager is deciding how much to spend on advertising for an upcoming movie. Each ticket is\n",
        "200.\n",
        "\n",
        "Write program to generate a table for differnet advertising amounts and profits.\n",
        "\n",
        "Example output:\n",
        "Ad$ | Profit\n",
        "0   | 0\n",
        "25  | 75\n",
        "50  | 90\n",
        "75  | 105\n",
        "100 | 100\n",
        "125 | 95\n",
        "150 | 90\n",
        "175 | 85\n",
        "200 | 80\n",
        "\"\"\"\n",
        "print(\"Ad$  Profit\")\n",
        "for ad in range(0,201,25):\n",
        "  additional = 2*round(ad**0.5)\n",
        "  profit = (20 + additional)*10 - 200 - ad\n",
        "  print(ad, profit, sep = \"    \")\n"
      ],
      "metadata": {
        "id": "gqEFkkmk6mLd"
      },
      "execution_count": null,
      "outputs": []
    },
    {
      "cell_type": "code",
      "source": [
        "# ACTIVITY 6: Months2Numbers\n",
        "#   Use a dictionary to assign the names to the numbers per month\n",
        "\n",
        "months = {}\n",
        "names = [\"Jan\", \"Feb\", \"Mar\", \"Apr\", \"May\", \"Jun\", \"Jul\", \"Aug\", \"Sep\", \"Oct\", \"Nov\", \"Dec\"]\n",
        "number = [1, 2, 3, 4, 5, 6, 7, 8, 9, 10, 11, 12]\n",
        "\n",
        "for i in range(len(names)):\n",
        "  months[number[i]] = names[i]\n",
        "\n",
        "print(months)"
      ],
      "metadata": {
        "colab": {
          "base_uri": "https://localhost:8080/"
        },
        "id": "QD86uqxmV-AR",
        "outputId": "b604b860-e6af-4bbe-b78e-b9857783e280"
      },
      "execution_count": null,
      "outputs": [
        {
          "output_type": "stream",
          "name": "stdout",
          "text": [
            "{1: 'Jan', 2: 'Feb', 3: 'Mar', 4: 'Apr', 5: 'May', 6: 'Jun', 7: 'Jul', 8: 'Aug', 9: 'Sep', 10: 'Oct', 11: 'Nov', 12: 'Dec'}\n"
          ]
        }
      ]
    },
    {
      "cell_type": "code",
      "source": [
        "#ACTIVITY 7: Fee calculation and display functions\n",
        "\n",
        "def calcFee(hours,decimals=2):\n",
        "  fee= round(5+2.5*hours, decimals)\n",
        "  return fee\n",
        "def displayFee(fee):\n",
        "  print(fee)\n",
        "\n",
        "hours_parked=int(input('number of hours:'))\n",
        "f=calcFee(hours_parked)\n",
        "displayFee(f)"
      ],
      "metadata": {
        "id": "8D_dcAwD6pZ1"
      },
      "execution_count": null,
      "outputs": []
    },
    {
      "cell_type": "code",
      "source": [
        "#ACTIVITY 8: Reverse Function (recursion)\n",
        "#   Design a recursive function that takes a string input and returns the string backwards\n",
        "\n",
        "string = input(\"Enter a string: \")\n",
        "\n",
        "def reverse_string(string):\n",
        "  if len(string) == 0:\n",
        "        return string\n",
        "  else:\n",
        "    return reverse_string(string[1:]) + string[0]\n",
        "\n",
        "reverse_string(string)"
      ],
      "metadata": {
        "colab": {
          "base_uri": "https://localhost:8080/",
          "height": 53
        },
        "id": "KxcOmKq6ke9_",
        "outputId": "21b021fb-8be6-4026-8b4a-6283c518c2dc"
      },
      "execution_count": null,
      "outputs": [
        {
          "name": "stdout",
          "output_type": "stream",
          "text": [
            "Enter a string: recursive\n"
          ]
        },
        {
          "output_type": "execute_result",
          "data": {
            "text/plain": [
              "'evisrucer'"
            ],
            "application/vnd.google.colaboratory.intrinsic+json": {
              "type": "string"
            }
          },
          "metadata": {},
          "execution_count": 8
        }
      ]
    },
    {
      "cell_type": "code",
      "source": [
        "#ACTIVITY 9: Student Class\n",
        "\n",
        "'''\n",
        "Define a class named student. Student has two attributes: name(str) and number (str).\n",
        "Create two student objects out of this class.\n",
        "The objects will be:\n",
        "name: First Name Last Name, number: 000\n",
        "\n",
        "The student class defined above has a new attribute\n",
        "This attribute is \"courses\" and it will keep the list of courses that the student takes.\n",
        "Its type is list and it will initialize as an empty list. There will be a method named 'enroll' to enroll the course.\n",
        "The student will enroll the course, if it has not enrolled already. Moreover, there will be a method named 'get-courses' which will return the course list.\n",
        "Redefine the student class based on this information.\n",
        "\n",
        "'''\n",
        "\n",
        "class Student:\n",
        "    def __init__(self, name, number):\n",
        "        self.name = name\n",
        "        self.number = number\n",
        "        self.courses = []\n",
        "\n",
        "    def __repr__(self):\n",
        "        return f'Name: {self.name}.'\n",
        "\n",
        "    def set_name(self, new_name):\n",
        "        self.name = new_name\n",
        "\n",
        "    def get_name(self):\n",
        "        return self.name\n",
        "\n",
        "    def enroll(self, course):\n",
        "        if course not in self.courses:\n",
        "            self.courses.append(course)\n",
        "        else:\n",
        "            print(f\"{self.name} is already enrolled in {course}.\")\n",
        "\n",
        "    def get_courses(self):\n",
        "        return self.courses\n",
        "\n",
        "\n",
        "student1 = Student(\"James Bond\", \"007\")\n",
        "student2 = Student(\"Clark Kent\", \"333\")\n",
        "\n",
        "print(student1.name, student1.number)\n",
        "print(student2.name, student2.number)\n",
        "print(student1)\n",
        "\n",
        "student2.set_name('Bob')\n",
        "print(student2.get_name())\n",
        "\n",
        "s = Student('Bob', '123')\n",
        "s.enroll('ABC123')\n",
        "s.enroll('ABC456')\n",
        "s.enroll('ABC789')\n",
        "s.enroll('ABC123')\n",
        "print(s.get_courses())\n",
        "\n"
      ],
      "metadata": {
        "id": "AvhmNqMuD77l",
        "colab": {
          "base_uri": "https://localhost:8080/"
        },
        "outputId": "bc0d560c-139a-45cf-842a-2ed1426fd46d"
      },
      "execution_count": 4,
      "outputs": [
        {
          "output_type": "stream",
          "name": "stdout",
          "text": [
            "James Bond 007\n",
            "Clark Kent 333\n",
            "Name: James Bond.\n",
            "Bob\n",
            "Bob is already enrolled in ABC123.\n",
            "['ABC123', 'ABC456', 'ABC789']\n"
          ]
        }
      ]
    },
    {
      "cell_type": "code",
      "source": [
        "l = []\n",
        "keyboard_input = int(input(\"Give a value to add to the list: \"))\n",
        "while keyboard_input != 0:\n",
        "  l.append(keyboard_input)\n",
        "  keyboard_input = int(input(\"Give another value to add to the list: \"))\n",
        "\n",
        "print(l)"
      ],
      "metadata": {
        "id": "A4zaFyMjpCO3",
        "colab": {
          "base_uri": "https://localhost:8080/"
        },
        "outputId": "82331c6f-8ae8-4681-9d44-0f542b382907"
      },
      "execution_count": null,
      "outputs": [
        {
          "output_type": "stream",
          "name": "stdout",
          "text": [
            "Give a value to add to the list: 1\n",
            "Give another value to add to the list: 2\n",
            "Give another value to add to the list: 0\n",
            "[1, 2]\n"
          ]
        }
      ]
    },
    {
      "cell_type": "code",
      "source": [
        "def range_check(number, low, high):\n",
        "    if low <= number <= high:\n",
        "        return True\n",
        "    else:\n",
        "        return False\n",
        "\n",
        "print(range_check(number=2,low=1,high=3))"
      ],
      "metadata": {
        "colab": {
          "base_uri": "https://localhost:8080/"
        },
        "id": "8zfVZbMpymCb",
        "outputId": "a30f8fee-0c5c-4b09-fe72-ef755145807a"
      },
      "execution_count": null,
      "outputs": [
        {
          "output_type": "stream",
          "name": "stdout",
          "text": [
            "True\n"
          ]
        }
      ]
    },
    {
      "cell_type": "code",
      "source": [
        "def calcTuition(credits):\n",
        "    if credits >= 12:\n",
        "        return 20000\n",
        "    else:\n",
        "        return 1200 + (1700 * credits)\n",
        "\n",
        "credits = int(input(\"Enter the number of credits: \"))\n",
        "tuition = calcTuition(credits)\n",
        "print(f\"The tuition for {credits} credits is ${tuition}\")\n"
      ],
      "metadata": {
        "colab": {
          "base_uri": "https://localhost:8080/"
        },
        "id": "byCFIUt47Pz2",
        "outputId": "53a265aa-3a4b-40d8-9b41-cc43a4156b7c"
      },
      "execution_count": null,
      "outputs": [
        {
          "output_type": "stream",
          "name": "stdout",
          "text": [
            "Enter the number of credits: 15\n",
            "The tuition for 15 credits is $20000\n"
          ]
        }
      ]
    },
    {
      "cell_type": "code",
      "source": [
        "\"\"\"\n",
        "Function that calcultes the weighted average of a list L, given weights w.\n",
        "The function should handle th efollowing exception error types:\n",
        "- ZeroDivisionError (returns an empty list)\n",
        "- TypeError (returns an empty list)\n",
        "- ValueError (returns an empty list)\n",
        "\"\"\"\n",
        "def wAvg(L,w):\n",
        "  res = []\n",
        "  try:\n",
        "      for i in range(len(L)):\n",
        "        res.append(L[i]*w[i])\n",
        "      return sum(res) / sum(w)\n",
        "  except ZeroDivisionError:\n",
        "    print(\"Division by zero\")\n",
        "    return []\n",
        "  except TypeError:\n",
        "    print(\"Non-numerical objects found\")\n",
        "    return []\n",
        "  except Exception as e:\n",
        "    print(f\"Unkown error: {e}\")\n",
        "    return float('nan')\n",
        "\n",
        "wAvg ([1,2,3], [.2,0,-.2])\n"
      ],
      "metadata": {
        "colab": {
          "base_uri": "https://localhost:8080/"
        },
        "id": "pQ9rHJlK-vZE",
        "outputId": "24cd87c2-23bc-4f4f-c834-c8a0c09ebb69"
      },
      "execution_count": null,
      "outputs": [
        {
          "output_type": "stream",
          "name": "stdout",
          "text": [
            "2.333333333333333\n"
          ]
        }
      ]
    },
    {
      "cell_type": "code",
      "source": [
        "# Assignment 1: House Hunting 10/9/2024\n",
        "\n",
        "# Input\n",
        "annual_salary = float(input(\"Enter your annual salary: \"))\n",
        "portion_saved = float(input(\"Enter the percent of your salary to save, as a decimal: \"))\n",
        "total_cost = float(input(\"Enter the cost of your dream home: \"))\n",
        "\n",
        "# Variables\n",
        "portion_down_payment = 0.25\n",
        "current_savings = 0.0\n",
        "r = 0.04\n",
        "\n",
        "# Down payment calculation\n",
        "down_payment = total_cost * portion_down_payment\n",
        "\n",
        "# Monthly salary\n",
        "monthly_salary = annual_salary / 12\n",
        "months = 0\n",
        "\n",
        "# Months to save up for down payment\n",
        "while current_savings < down_payment:\n",
        "    current_savings += current_savings * (r / 12)\n",
        "    current_savings += monthly_salary * portion_saved\n",
        "    months += 1\n",
        "\n",
        "print(f\"Number of months: {months}\")\n"
      ],
      "metadata": {
        "id": "K7eB95QPpNWC"
      },
      "execution_count": null,
      "outputs": []
    },
    {
      "cell_type": "code",
      "source": [
        "# Assignment 2: Saving with Raise 10/9/2024\n",
        "\n",
        "# User input\n",
        "annual_salary = float(input(\"Enter your annual salary: \"))\n",
        "portion_saved = float(input(\"Enter the percent of your salary to save, as a decimal: \"))\n",
        "total_cost = float(input(\"Enter the cost of your dream home: \"))\n",
        "semi_annual_raise = float(input(\"Enter the semi-annual raise, as a decimal: \"))\n",
        "\n",
        "# Variables\n",
        "portion_down_payment = 0.25\n",
        "current_savings = 0.0\n",
        "r = 0.04\n",
        "\n",
        "# Down payment calculation\n",
        "down_payment = total_cost * portion_down_payment\n",
        "\n",
        "# Monthly salary\n",
        "monthly_salary = annual_salary / 12\n",
        "months = 0\n",
        "\n",
        "# Months to save up for down payment\n",
        "while current_savings < down_payment:\n",
        "    current_savings += current_savings * (r / 12)\n",
        "    current_savings += monthly_salary * portion_saved\n",
        "    months += 1\n",
        "\n",
        "# Semi-annual raise\n",
        "    if months % 6 == 0:\n",
        "        monthly_salary *= (1 + semi_annual_raise)\n",
        "\n",
        "print(f\"Number of months: {months}\")\n"
      ],
      "metadata": {
        "id": "8bFmEs4tpiaG"
      },
      "execution_count": null,
      "outputs": []
    },
    {
      "cell_type": "code",
      "source": [
        "#Assignment 3: Check if a number is within a range 10/9/2024\n",
        "\n",
        "def range_check(number, low, high):\n",
        "    if low <= number <= high:\n",
        "        print(f\"{number} is in the range between {low} and {high}.\")\n",
        "    else:\n",
        "        print(f\"{number} is not in the range between {low} and {high}.\")"
      ],
      "metadata": {
        "id": "6A2DSj9Op4un"
      },
      "execution_count": 1,
      "outputs": []
    },
    {
      "cell_type": "code",
      "source": [
        "class Coordinate:\n",
        "  def __init__(self, x, y):\n",
        "    self.x = x\n",
        "    self.y = y\n",
        "\n",
        "  def distance(self, other):\n",
        "    distance = ((self.x - other.x)**2 + (self.y - other.y)**2)**0.5\n",
        "    return distance\n",
        "\n",
        "  def __str__(self):\n",
        "    return f\"({self.x}, {self.y})\"\n",
        "\n",
        "\n",
        "p1 = Coordinate(0,0)\n",
        "p2 = Coordinate(6,8)\n",
        "\n",
        "p1.distance(p2)\n",
        "p2.distance(p1) #Same as saying Coordinate.distance(p1,p2)"
      ],
      "metadata": {
        "id": "B58gSLcR8Ao4"
      },
      "execution_count": null,
      "outputs": []
    },
    {
      "cell_type": "code",
      "source": [
        "'''\n",
        "The student class defined above has a new attribute\n",
        "This attribute is \"courses\" and it will keep the list of courses that the student takes.\n",
        "Its type is list and it will initialize as an empty list. There will be a method named 'enroll' to enroll the course.\n",
        "The student will enroll the course, if it has not enrolled already. Moreover, there will be a method named 'get-courses' which will return the course list.\n",
        "Redefine the student class based on this information.\n",
        "\n",
        "'''\n",
        "\n",
        "def enroll(self, course):\n",
        "    if course not in self.courses:\n",
        "        self.courses.append(course)\n",
        "\n",
        "def get_courses(self):\n",
        "    return self.courses"
      ],
      "metadata": {
        "id": "mTnnnqFwLGVT"
      },
      "execution_count": null,
      "outputs": []
    }
  ]
}