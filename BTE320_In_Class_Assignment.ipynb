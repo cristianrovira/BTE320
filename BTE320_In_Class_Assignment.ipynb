{
  "nbformat": 4,
  "nbformat_minor": 0,
  "metadata": {
    "colab": {
      "provenance": [],
      "authorship_tag": "ABX9TyPcivsVrWqkVxz7ATx+kYBK",
      "include_colab_link": true
    },
    "kernelspec": {
      "name": "python3",
      "display_name": "Python 3"
    },
    "language_info": {
      "name": "python"
    }
  },
  "cells": [
    {
      "cell_type": "markdown",
      "metadata": {
        "id": "view-in-github",
        "colab_type": "text"
      },
      "source": [
        "<a href=\"https://colab.research.google.com/github/cristianrovira/BTE320/blob/main/BTE320_In_Class_Assignment.ipynb\" target=\"_parent\"><img src=\"https://colab.research.google.com/assets/colab-badge.svg\" alt=\"Open In Colab\"/></a>"
      ]
    },
    {
      "cell_type": "code",
      "execution_count": null,
      "metadata": {
        "colab": {
          "base_uri": "https://localhost:8080/"
        },
        "id": "tsCc6rO-CnIy",
        "outputId": "96209749-7418-4844-f868-61061bb4a735"
      },
      "outputs": [
        {
          "output_type": "stream",
          "name": "stdout",
          "text": [
            "244.92000000000002\n"
          ]
        }
      ],
      "source": [
        "# Surface area of a cylinder => 2PiR^2 + 2PiRH\n",
        "\n",
        "Pi = 3.14\n",
        "r = 3\n",
        "h = 10\n",
        "\n",
        "SA = 2 * Pi * r ** 2 + 2 * Pi * r * h\n",
        "print(SA)"
      ]
    },
    {
      "cell_type": "code",
      "source": [
        "#Game of rock, paper, or scissors\n",
        "import random\n",
        "game_choice = str(input(\"Would you like to play a game? Answer 'yes' or 'no'. \")).lower()\n",
        "while game_choice == \"yes\":\n",
        "  player_1 = input(\"Player 1: choose rock, paper, or scissors. \").lower()\n",
        "  player_2 = random.choice(['rock', 'paper', 'scissors'])\n",
        "  print(f\"Computer chose {player_2}.\")\n",
        "\n",
        "  if player_1 == player_2:\n",
        "    print(\"Its a tie.\")\n",
        "\n",
        "  elif ((player_1 == \"rock\" and player_2 == \"scissors\")\n",
        "  or (player_1 == \"paper\" and player_2 == \"rock\")\n",
        "  or (player_1 == \"scissors\" and player_2 == \"paper\")):\n",
        "    print(\"You win!\")\n",
        "    print()\n",
        "\n",
        "  elif ((player_1 == \"scissors\" and player_2 == \"rock\")\n",
        "  or (player_1 == \"rock\" and player_2 == \"paper\")\n",
        "  or (player_1 == \"paper\" and player_2 == \"scissors\")):\n",
        "    print(\"You lose!\")\n",
        "    print()\n",
        "\n",
        "  else:\n",
        "    print(\"Invalid input. Please enter a valid choice.\")\n",
        "    print()\n",
        "\n",
        "  game_choice = input(\"Would you like to play again? Answer 'yes' or 'no'. \")\n"
      ],
      "metadata": {
        "colab": {
          "base_uri": "https://localhost:8080/"
        },
        "id": "2vmkfTqgSMEh",
        "outputId": "ab69741b-b785-4ed2-f88e-b1c67acaeb65"
      },
      "execution_count": 7,
      "outputs": [
        {
          "name": "stdout",
          "output_type": "stream",
          "text": [
            "Would you like to play a game? Answer 'yes' or 'no'. Yes\n",
            "Player 1: choose rock, paper, or scissors. ROck\n",
            "Computer chose paper.\n",
            "You lose!\n",
            "\n",
            "Would you like to play again? Answer 'yes' or 'no'. Yes\n"
          ]
        }
      ]
    },
    {
      "cell_type": "code",
      "source": [
        "#Simple calculator\n",
        "\n",
        "number_1 = float(input(\"What is the first number? \"))\n",
        "number_2 = float(input(\"What is the second number? \"))\n",
        "math_operation = input(\"Which operation would you like to perform? (+, -, *, /, **) \")\n",
        "print()\n",
        "\n",
        "if(math_operation == \"+\"):\n",
        "  result = number_1 + number_2\n",
        "elif(math_operation == \"-\"):\n",
        "  result = number_1 - number_2\n",
        "elif(math_operation == \"*\"):\n",
        "  result = number_1 * number_2\n",
        "elif(math_operation == \"/\"):\n",
        "  result = number_1 / number_2\n",
        "elif(math_operation == \"**\"):\n",
        "  result = number_1 ** number_2\n",
        "else:\n",
        "  print(\"Invalid input. Please enter a valid operator (+, -, *, /, **).\")\n",
        "\n",
        "print(f\"The result is {result}.\")\n",
        "\n",
        "print(\"Program ended.\")\n"
      ],
      "metadata": {
        "colab": {
          "base_uri": "https://localhost:8080/"
        },
        "id": "PS98--hJXxe5",
        "outputId": "0bad85ee-70bb-4eb2-d666-dff80a2ee452"
      },
      "execution_count": null,
      "outputs": [
        {
          "output_type": "stream",
          "name": "stdout",
          "text": [
            "What is the first number? 1\n",
            "What is the second number? 1\n",
            "Which operation would you like to perform? (+, -, *, /, **) +\n",
            "\n",
            "The result is 2.0.\n",
            "Program ended.\n"
          ]
        }
      ]
    }
  ]
}