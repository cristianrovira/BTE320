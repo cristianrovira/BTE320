{
  "nbformat": 4,
  "nbformat_minor": 0,
  "metadata": {
    "colab": {
      "provenance": [],
      "authorship_tag": "ABX9TyOR3IdYCjo+pdjGO3riWFWH",
      "include_colab_link": true
    },
    "kernelspec": {
      "name": "python3",
      "display_name": "Python 3"
    },
    "language_info": {
      "name": "python"
    }
  },
  "cells": [
    {
      "cell_type": "markdown",
      "metadata": {
        "id": "view-in-github",
        "colab_type": "text"
      },
      "source": [
        "<a href=\"https://colab.research.google.com/github/cristianrovira/BTE320/blob/main/BTE320_In_Class_Assignment.ipynb\" target=\"_parent\"><img src=\"https://colab.research.google.com/assets/colab-badge.svg\" alt=\"Open In Colab\"/></a>"
      ]
    },
    {
      "cell_type": "code",
      "execution_count": null,
      "metadata": {
        "colab": {
          "base_uri": "https://localhost:8080/"
        },
        "id": "tsCc6rO-CnIy",
        "outputId": "96209749-7418-4844-f868-61061bb4a735"
      },
      "outputs": [
        {
          "output_type": "stream",
          "name": "stdout",
          "text": [
            "244.92000000000002\n"
          ]
        }
      ],
      "source": [
        "# Surface area of a cylinder => 2PiR^2 + 2PiRH\n",
        "\n",
        "Pi = 3.14\n",
        "r = 3\n",
        "h = 10\n",
        "\n",
        "SA = 2 * Pi * r ** 2 + 2 * Pi * r * h\n",
        "print(SA)"
      ]
    },
    {
      "cell_type": "code",
      "source": [
        "#Game of rock, paper, or scissors\n",
        "import random\n",
        "game_choice = str(input(\"Would you like to play a game? Answer 'yes' or 'no'. \")).lower()\n",
        "while game_choice == \"yes\":\n",
        "  player_1 = input(\"Player 1: choose rock, paper, or scissors. \").lower()\n",
        "  player_2 = random.choice(['rock', 'paper', 'scissors'])\n",
        "  print(f\"Computer chose {player_2}.\")\n",
        "\n",
        "  if player_1 == player_2:\n",
        "    print(\"Its a tie.\")\n",
        "\n",
        "  elif ((player_1 == \"rock\" and player_2 == \"scissors\")\n",
        "  or (player_1 == \"paper\" and player_2 == \"rock\")\n",
        "  or (player_1 == \"scissors\" and player_2 == \"paper\")):\n",
        "    print(\"You win!\")\n",
        "    print()\n",
        "\n",
        "  elif ((player_1 == \"scissors\" and player_2 == \"rock\")\n",
        "  or (player_1 == \"rock\" and player_2 == \"paper\")\n",
        "  or (player_1 == \"paper\" and player_2 == \"scissors\")):\n",
        "    print(\"You lose!\")\n",
        "    print()\n",
        "\n",
        "  else:\n",
        "    print(\"Invalid input. Please enter a valid choice.\")\n",
        "    print()\n",
        "\n",
        "  game_choice = input(\"Would you like to play again? Answer 'yes' or 'no'. \")\n"
      ],
      "metadata": {
        "id": "2vmkfTqgSMEh"
      },
      "execution_count": null,
      "outputs": []
    },
    {
      "cell_type": "code",
      "source": [
        "#Simple calculator\n",
        "\n",
        "number_1 = float(input(\"What is the first number? \"))\n",
        "number_2 = float(input(\"What is the second number? \"))\n",
        "math_operation = input(\"Which operation would you like to perform? (+, -, *, /, **) \")\n",
        "print()\n",
        "\n",
        "if(math_operation == \"+\"):\n",
        "  result = number_1 + number_2\n",
        "elif(math_operation == \"-\"):\n",
        "  result = number_1 - number_2\n",
        "elif(math_operation == \"*\"):\n",
        "  result = number_1 * number_2\n",
        "elif(math_operation == \"/\"):\n",
        "  result = number_1 / number_2\n",
        "elif(math_operation == \"**\"):\n",
        "  result = number_1 ** number_2\n",
        "else:\n",
        "  print(\"Invalid input. Please enter a valid operator (+, -, *, /, **).\")\n",
        "\n",
        "print(f\"The result is {result}.\")\n",
        "\n",
        "print(\"Program ended.\")\n"
      ],
      "metadata": {
        "colab": {
          "base_uri": "https://localhost:8080/"
        },
        "id": "PS98--hJXxe5",
        "outputId": "0bad85ee-70bb-4eb2-d666-dff80a2ee452"
      },
      "execution_count": null,
      "outputs": [
        {
          "output_type": "stream",
          "name": "stdout",
          "text": [
            "What is the first number? 1\n",
            "What is the second number? 1\n",
            "Which operation would you like to perform? (+, -, *, /, **) +\n",
            "\n",
            "The result is 2.0.\n",
            "Program ended.\n"
          ]
        }
      ]
    },
    {
      "cell_type": "code",
      "source": [
        "l = []\n",
        "keyboard_input = int(input(\"Give a value to add to the list: \"))\n",
        "while keyboard_input != 0:\n",
        "  l.append(keyboard_input)\n",
        "  keyboard_input = int(input(\"Give another value to add to the list: \"))\n",
        "\n",
        "print(l)"
      ],
      "metadata": {
        "id": "A4zaFyMjpCO3",
        "colab": {
          "base_uri": "https://localhost:8080/"
        },
        "outputId": "82331c6f-8ae8-4681-9d44-0f542b382907"
      },
      "execution_count": null,
      "outputs": [
        {
          "output_type": "stream",
          "name": "stdout",
          "text": [
            "Give a value to add to the list: 1\n",
            "Give another value to add to the list: 2\n",
            "Give another value to add to the list: 0\n",
            "[1, 2]\n"
          ]
        }
      ]
    },
    {
      "cell_type": "code",
      "source": [
        "#Use a dictionary to assign the names to the numbers per month\n",
        "months = {}\n",
        "names = [\"Jan\", \"Feb\", \"Mar\", \"Apr\", \"May\", \"Jun\", \"Jul\", \"Aug\", \"Sep\", \"Oct\", \"Nov\", \"Dec\"]\n",
        "number = [1, 2, 3, 4, 5, 6, 7, 8, 9, 10, 11, 12]\n",
        "\n",
        "for i in range(len(names)):\n",
        "  months[number[i]] = names[i]\n",
        "\n",
        "print(months)"
      ],
      "metadata": {
        "colab": {
          "base_uri": "https://localhost:8080/"
        },
        "id": "QD86uqxmV-AR",
        "outputId": "b604b860-e6af-4bbe-b78e-b9857783e280"
      },
      "execution_count": 2,
      "outputs": [
        {
          "output_type": "stream",
          "name": "stdout",
          "text": [
            "{1: 'Jan', 2: 'Feb', 3: 'Mar', 4: 'Apr', 5: 'May', 6: 'Jun', 7: 'Jul', 8: 'Aug', 9: 'Sep', 10: 'Oct', 11: 'Nov', 12: 'Dec'}\n"
          ]
        }
      ]
    }
  ]
}