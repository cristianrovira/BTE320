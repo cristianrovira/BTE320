{
  "nbformat": 4,
  "nbformat_minor": 0,
  "metadata": {
    "colab": {
      "provenance": [],
      "authorship_tag": "ABX9TyMjNRmhDlCX6v6tmgcBEmrp",
      "include_colab_link": true
    },
    "kernelspec": {
      "name": "python3",
      "display_name": "Python 3"
    },
    "language_info": {
      "name": "python"
    }
  },
  "cells": [
    {
      "cell_type": "markdown",
      "metadata": {
        "id": "view-in-github",
        "colab_type": "text"
      },
      "source": [
        "<a href=\"https://colab.research.google.com/github/cristianrovira/BTE320/blob/main/BTE320_In_Class_Assignment.ipynb\" target=\"_parent\"><img src=\"https://colab.research.google.com/assets/colab-badge.svg\" alt=\"Open In Colab\"/></a>"
      ]
    },
    {
      "cell_type": "code",
      "execution_count": null,
      "metadata": {
        "colab": {
          "base_uri": "https://localhost:8080/"
        },
        "id": "tsCc6rO-CnIy",
        "outputId": "96209749-7418-4844-f868-61061bb4a735"
      },
      "outputs": [
        {
          "output_type": "stream",
          "name": "stdout",
          "text": [
            "244.92000000000002\n"
          ]
        }
      ],
      "source": [
        "# Surface area of a cylinder => 2PiR^2 + 2PiRH\n",
        "\n",
        "Pi = 3.14\n",
        "r = 3\n",
        "h = 10\n",
        "\n",
        "SA = 2 * Pi * r ** 2 + 2 * Pi * r * h\n",
        "print(SA)"
      ]
    },
    {
      "cell_type": "code",
      "source": [
        "#Game of rock, paper, or scissors\n",
        "import random\n",
        "game_choice = str(input(\"Would you like to play a game? Answer 'yes' or 'no'. \")).lower()\n",
        "while game_choice == \"yes\":\n",
        "  player_1 = input(\"Player 1: choose rock, paper, or scissors. \").lower()\n",
        "  player_2 = random.choice(['rock', 'paper', 'scissors'])\n",
        "  print(f\"Computer chose {player_2}.\")\n",
        "\n",
        "  if player_1 == player_2:\n",
        "    print(\"Its a tie.\")\n",
        "\n",
        "  elif ((player_1 == \"rock\" and player_2 == \"scissors\")\n",
        "  or (player_1 == \"paper\" and player_2 == \"rock\")\n",
        "  or (player_1 == \"scissors\" and player_2 == \"paper\")):\n",
        "    print(\"You win!\")\n",
        "    print()\n",
        "\n",
        "  elif ((player_1 == \"scissors\" and player_2 == \"rock\")\n",
        "  or (player_1 == \"rock\" and player_2 == \"paper\")\n",
        "  or (player_1 == \"paper\" and player_2 == \"scissors\")):\n",
        "    print(\"You lose!\")\n",
        "    print()\n",
        "\n",
        "  else:\n",
        "    print(\"Invalid input. Please enter a valid choice.\")\n",
        "    print()\n",
        "\n",
        "  game_choice = input(\"Would you like to play again? Answer 'yes' or 'no'. \")\n"
      ],
      "metadata": {
        "id": "2vmkfTqgSMEh"
      },
      "execution_count": null,
      "outputs": []
    },
    {
      "cell_type": "code",
      "source": [
        "#Simple calculator\n",
        "\n",
        "number_1 = float(input(\"What is the first number? \"))\n",
        "number_2 = float(input(\"What is the second number? \"))\n",
        "math_operation = input(\"Which operation would you like to perform? (+, -, *, /, **) \")\n",
        "print()\n",
        "\n",
        "if(math_operation == \"+\"):\n",
        "  result = number_1 + number_2\n",
        "elif(math_operation == \"-\"):\n",
        "  result = number_1 - number_2\n",
        "elif(math_operation == \"*\"):\n",
        "  result = number_1 * number_2\n",
        "elif(math_operation == \"/\"):\n",
        "  result = number_1 / number_2\n",
        "elif(math_operation == \"**\"):\n",
        "  result = number_1 ** number_2\n",
        "else:\n",
        "  print(\"Invalid input. Please enter a valid operator (+, -, *, /, **).\")\n",
        "\n",
        "print(f\"The result is {result}.\")\n",
        "\n",
        "print(\"Program ended.\")\n"
      ],
      "metadata": {
        "colab": {
          "base_uri": "https://localhost:8080/"
        },
        "id": "PS98--hJXxe5",
        "outputId": "0bad85ee-70bb-4eb2-d666-dff80a2ee452"
      },
      "execution_count": null,
      "outputs": [
        {
          "output_type": "stream",
          "name": "stdout",
          "text": [
            "What is the first number? 1\n",
            "What is the second number? 1\n",
            "Which operation would you like to perform? (+, -, *, /, **) +\n",
            "\n",
            "The result is 2.0.\n",
            "Program ended.\n"
          ]
        }
      ]
    },
    {
      "cell_type": "code",
      "source": [
        "l = []\n",
        "keyboard_input = int(input(\"Give a value to add to the list: \"))\n",
        "while keyboard_input != 0:\n",
        "  l.append(keyboard_input)\n",
        "  keyboard_input = int(input(\"Give another value to add to the list: \"))\n",
        "\n",
        "print(l)"
      ],
      "metadata": {
        "id": "A4zaFyMjpCO3",
        "colab": {
          "base_uri": "https://localhost:8080/"
        },
        "outputId": "82331c6f-8ae8-4681-9d44-0f542b382907"
      },
      "execution_count": null,
      "outputs": [
        {
          "output_type": "stream",
          "name": "stdout",
          "text": [
            "Give a value to add to the list: 1\n",
            "Give another value to add to the list: 2\n",
            "Give another value to add to the list: 0\n",
            "[1, 2]\n"
          ]
        }
      ]
    },
    {
      "cell_type": "code",
      "source": [
        "#Use a dictionary to assign the names to the numbers per month\n",
        "months = {}\n",
        "names = [\"Jan\", \"Feb\", \"Mar\", \"Apr\", \"May\", \"Jun\", \"Jul\", \"Aug\", \"Sep\", \"Oct\", \"Nov\", \"Dec\"]\n",
        "number = [1, 2, 3, 4, 5, 6, 7, 8, 9, 10, 11, 12]\n",
        "\n",
        "for i in range(len(names)):\n",
        "  months[number[i]] = names[i]\n",
        "\n",
        "print(months)"
      ],
      "metadata": {
        "colab": {
          "base_uri": "https://localhost:8080/"
        },
        "id": "QD86uqxmV-AR",
        "outputId": "b604b860-e6af-4bbe-b78e-b9857783e280"
      },
      "execution_count": null,
      "outputs": [
        {
          "output_type": "stream",
          "name": "stdout",
          "text": [
            "{1: 'Jan', 2: 'Feb', 3: 'Mar', 4: 'Apr', 5: 'May', 6: 'Jun', 7: 'Jul', 8: 'Aug', 9: 'Sep', 10: 'Oct', 11: 'Nov', 12: 'Dec'}\n"
          ]
        }
      ]
    },
    {
      "cell_type": "code",
      "source": [
        "# Assignment 1: House Hunting 10/9/2024\n",
        "\n",
        "# Input\n",
        "annual_salary = float(input(\"Enter your annual salary: \"))\n",
        "portion_saved = float(input(\"Enter the percent of your salary to save, as a decimal: \"))\n",
        "total_cost = float(input(\"Enter the cost of your dream home: \"))\n",
        "\n",
        "# Variables\n",
        "portion_down_payment = 0.25\n",
        "current_savings = 0.0\n",
        "r = 0.04\n",
        "\n",
        "# Down payment calculation\n",
        "down_payment = total_cost * portion_down_payment\n",
        "\n",
        "# Monthly salary\n",
        "monthly_salary = annual_salary / 12\n",
        "months = 0\n",
        "\n",
        "# Months to save up for down payment\n",
        "while current_savings < down_payment:\n",
        "    current_savings += current_savings * (r / 12)\n",
        "    current_savings += monthly_salary * portion_saved\n",
        "    months += 1\n",
        "\n",
        "print(f\"Number of months: {months}\")\n"
      ],
      "metadata": {
        "id": "K7eB95QPpNWC"
      },
      "execution_count": null,
      "outputs": []
    },
    {
      "cell_type": "code",
      "source": [
        "# Assignment 2: Saving with Raise 10/9/2024\n",
        "\n",
        "# User input\n",
        "annual_salary = float(input(\"Enter your annual salary: \"))\n",
        "portion_saved = float(input(\"Enter the percent of your salary to save, as a decimal: \"))\n",
        "total_cost = float(input(\"Enter the cost of your dream home: \"))\n",
        "semi_annual_raise = float(input(\"Enter the semi-annual raise, as a decimal: \"))\n",
        "\n",
        "# Variables\n",
        "portion_down_payment = 0.25\n",
        "current_savings = 0.0\n",
        "r = 0.04\n",
        "\n",
        "# Down payment calculation\n",
        "down_payment = total_cost * portion_down_payment\n",
        "\n",
        "# Monthly salary\n",
        "monthly_salary = annual_salary / 12\n",
        "months = 0\n",
        "\n",
        "# Months to save up for down payment\n",
        "while current_savings < down_payment:\n",
        "    current_savings += current_savings * (r / 12)\n",
        "    current_savings += monthly_salary * portion_saved\n",
        "    months += 1\n",
        "\n",
        "# Semi-annual raise\n",
        "    if months % 6 == 0:\n",
        "        monthly_salary *= (1 + semi_annual_raise)\n",
        "\n",
        "print(f\"Number of months: {months}\")\n"
      ],
      "metadata": {
        "id": "8bFmEs4tpiaG"
      },
      "execution_count": null,
      "outputs": []
    },
    {
      "cell_type": "code",
      "source": [
        "#Assignment 3: Check if a number is within a range 10/9/2024\n",
        "\n",
        "def range_check(number, low, high):\n",
        "    if low <= number <= high:\n",
        "        print(f\"{number} is in the range between {low} and {high}.\")\n",
        "    else:\n",
        "        print(f\"{number} is not in the range between {low} and {high}.\")"
      ],
      "metadata": {
        "colab": {
          "base_uri": "https://localhost:8080/",
          "height": 180
        },
        "id": "6A2DSj9Op4un",
        "outputId": "cb656fe4-e7cc-4ca1-eee9-005ba803d546"
      },
      "execution_count": 3,
      "outputs": [
        {
          "output_type": "error",
          "ename": "TypeError",
          "evalue": "range_check() got an unexpected keyword argument 'num'",
          "traceback": [
            "\u001b[0;31m---------------------------------------------------------------------------\u001b[0m",
            "\u001b[0;31mTypeError\u001b[0m                                 Traceback (most recent call last)",
            "\u001b[0;32m<ipython-input-3-fd79221eb675>\u001b[0m in \u001b[0;36m<cell line: 9>\u001b[0;34m()\u001b[0m\n\u001b[1;32m      7\u001b[0m         \u001b[0mprint\u001b[0m\u001b[0;34m(\u001b[0m\u001b[0;34mf\"{number} is not in the range between {low} and {high}.\"\u001b[0m\u001b[0;34m)\u001b[0m\u001b[0;34m\u001b[0m\u001b[0;34m\u001b[0m\u001b[0m\n\u001b[1;32m      8\u001b[0m \u001b[0;34m\u001b[0m\u001b[0m\n\u001b[0;32m----> 9\u001b[0;31m \u001b[0mprint\u001b[0m\u001b[0;34m(\u001b[0m\u001b[0mrange_check\u001b[0m\u001b[0;34m(\u001b[0m\u001b[0mnum\u001b[0m\u001b[0;34m=\u001b[0m\u001b[0;36m2\u001b[0m\u001b[0;34m,\u001b[0m\u001b[0mlow\u001b[0m\u001b[0;34m=\u001b[0m\u001b[0;36m1\u001b[0m\u001b[0;34m,\u001b[0m\u001b[0mhigh\u001b[0m\u001b[0;34m=\u001b[0m\u001b[0;36m3\u001b[0m\u001b[0;34m)\u001b[0m\u001b[0;34m)\u001b[0m\u001b[0;34m\u001b[0m\u001b[0;34m\u001b[0m\u001b[0m\n\u001b[0m",
            "\u001b[0;31mTypeError\u001b[0m: range_check() got an unexpected keyword argument 'num'"
          ]
        }
      ]
    },
    {
      "cell_type": "code",
      "source": [
        "def range_check(number, low, high):\n",
        "    if low <= number <= high:\n",
        "        return True\n",
        "    else:\n",
        "        return False\n",
        "\n",
        "print(range_check(number=2,low=1,high=3))"
      ],
      "metadata": {
        "colab": {
          "base_uri": "https://localhost:8080/"
        },
        "id": "8zfVZbMpymCb",
        "outputId": "a30f8fee-0c5c-4b09-fe72-ef755145807a"
      },
      "execution_count": 4,
      "outputs": [
        {
          "output_type": "stream",
          "name": "stdout",
          "text": [
            "True\n"
          ]
        }
      ]
    }
  ]
}